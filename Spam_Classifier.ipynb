{
 "cells": [
  {
   "cell_type": "markdown",
   "id": "fa0f564d-c6b4-45da-beb6-fc130bb36ec2",
   "metadata": {},
   "source": [
    " ## 🎯 AIM:\n",
    "##### Build a spam classifier that can detect whether a given message is SPAM or HAM (not spam) using Naive Bayes algorithm."
   ]
  },
  {
   "cell_type": "code",
   "execution_count": 7,
   "id": "c542ec61-6b5c-4b9a-8101-5407ca7c7993",
   "metadata": {},
   "outputs": [
    {
     "name": "stdout",
     "output_type": "stream",
     "text": [
      "📊 Accuracy: 1.0\n",
      "💬 The message 'Claim your free vacation now' is classified as: spam\n"
     ]
    }
   ],
   "source": [
    "\n",
    "from sklearn.model_selection import train_test_split\n",
    "from sklearn.feature_extraction.text import CountVectorizer\n",
    "from sklearn.naive_bayes import MultinomialNB\n",
    "from sklearn.metrics import accuracy_score\n",
    "\n",
    "messages = [\n",
    "    \"Win a free iPhone now\", \"Limited time offer, buy now\", \"Meeting at 10am tomorrow\",\n",
    "    \"Congratulations! You have won a lottery\", \"Let's have lunch today\", \"Earn money fast!!!\",\n",
    "    \"Your Amazon order has been shipped\", \"You have been selected for a prize\"\n",
    "]\n",
    "labels = [\"spam\", \"spam\", \"ham\", \"spam\", \"ham\", \"spam\", \"ham\", \"spam\"]\n",
    "\n",
    "vectorizer = CountVectorizer()\n",
    "X = vectorizer.fit_transform(messages)\n",
    "\n",
    "X_train, X_test, y_train, y_test = train_test_split(X, labels, test_size=0.3, random_state=42)\n",
    "\n",
    "model = MultinomialNB()\n",
    "model.fit(X, labels)\n",
    "\n",
    "y_pred = model.predict(X_test)\n",
    "\n",
    "print(\"📊 Accuracy:\", accuracy_score(y_test, y_pred))\n",
    "\n",
    "custom_message = [\"Claim your free vacation now\"]\n",
    "custom_vector = vectorizer.transform(custom_message)\n",
    "prediction = model.predict(custom_vector)\n",
    "print(f\"💬 The message '{custom_message[0]}' is classified as:\", prediction[0])\n"
   ]
  },
  {
   "cell_type": "markdown",
   "id": "ce16ff78-468c-4c75-aa9d-8283fe6fddfb",
   "metadata": {},
   "source": [
    "### 1. train_test_split → FUNCTION from sklearn.model_selection\n",
    "    - Purpose: To split dataset into training set and testing set.\n",
    "    - Without this: We can’t evaluate our model performance properly.\n",
    "### 2. CountVectorizer → CLASS from sklearn.feature_extraction.text\n",
    "    - Purpose: Converts text data into numerical vectors (Bag of Words model).\n",
    "    - Without this: Model can't process text because ML algorithms need numbers, not raw words. \n",
    "### 3. MultinomialNB → CLASS from sklearn.naive_bayes\n",
    "    - Purpose: Naive Bayes algorithm for classification, works well for text/spam         filtering.\n",
    "    - Without this: We have no model to train; code will not classify anything.\n",
    "### 4. accuracy_score → FUNCTION from sklearn.metrics\n",
    "    - Purpose: Calculates percentage of correct predictions by the model.\n",
    "    - Without this: We won’t know how accurate our model is."
   ]
  },
  {
   "cell_type": "markdown",
   "id": "6318936f-5781-4fa8-91a7-5886dfd0c49c",
   "metadata": {},
   "source": [
    "## STEP 1: CREATE DATASET (messages + labels)\n",
    " ------------------------------------------------------\n",
    " Dataset: A list of text messages (input) and labels (\"spam\"/\"ham\").\n",
    " 'spam' → Unwanted promotional/scam messages\n",
    " 'ham'  → Normal genuine messages"
   ]
  },
  {
   "cell_type": "markdown",
   "id": "7a221741-5503-4c96-b943-f306b41c6a6e",
   "metadata": {},
   "source": [
    "## STEP 2: CONVERT TEXT TO NUMERIC FORM\n",
    " ------------------------------------------------------\n",
    "Why? → Machine Learning models only understand numbers.\n",
    " CountVectorizer:\n",
    "  - Learns all unique words in the dataset\n",
    "  - Assigns each word a column position\n",
    "  - Counts how many times each word appears in each message"
   ]
  },
  {
   "cell_type": "markdown",
   "id": "84610daa-2bc4-446e-ac1e-0bda9839df79",
   "metadata": {},
   "source": [
    "## STEP 3: SPLIT DATA INTO TRAINING & TESTING\n",
    "------------------------------------------------------\n",
    "train_test_split():\n",
    "   - test_size=0.2 → 20% of data for testing, 80% for training.\n",
    "   - random_state=42 → Fixed seed so results are same every time.\n",
    "   - X_train: Training messages (numeric form)\n",
    "   - X_test: Testing messages (numeric form)\n",
    "   - y_train: Training labels (\"spam\"/\"ham\")\n",
    "   - y_test: Testing labels (\"spam\"/\"ham\")\n"
   ]
  },
  {
   "cell_type": "markdown",
   "id": "0a3c5af5-92ba-429f-a7d1-2f77c1b44574",
   "metadata": {},
   "source": [
    "## STEP 4: CREATE & TRAIN NAIVE BAYES MODEL\n",
    " ------------------------------------------------------\n",
    " MultinomialNB:\n",
    "   - Designed for discrete data (word counts).\n",
    "   - Works well for spam filtering because spam often uses certain words repeatedly.\n",
    " fit():\n",
    "   - Teaches the model to connect word patterns to spam/ham labels."
   ]
  },
  {
   "cell_type": "markdown",
   "id": "c15517d6-f3d7-4831-a997-c1ba0cce8eb6",
   "metadata": {},
   "source": [
    "## STEP 5: PREDICT ON TEST DATA\n",
    " ------------------------------------------------------\n",
    " predict():\n",
    "   - Uses the trained model to guess labels for unseen messages.\n"
   ]
  },
  {
   "cell_type": "markdown",
   "id": "f59e7cb3-aa1c-460b-a201-9890af991815",
   "metadata": {},
   "source": [
    "## STEP 6: CALCULATE ACCURACY\n",
    " ------------------------------------------------------\n",
    " accuracy_score():\n",
    "   - Compares predictions (y_pred) to actual labels (y_test).\n",
    "   - Returns a value between 0 and 1 (e.g., 0.95 = 95% accuracy)."
   ]
  },
  {
   "cell_type": "markdown",
   "id": "7e07ddc7-a8cf-43c5-84a9-0255a15176c5",
   "metadata": {},
   "source": [
    "## STEP 7: TEST MODEL WITH CUSTOM MESSAGE\n",
    "------------------------------------------------------\n",
    " Process:\n",
    "   - Write a new message\n",
    "   - Convert it into numeric vector using same vectorizer\n",
    "   - Predict spam/ham"
   ]
  },
  {
   "cell_type": "code",
   "execution_count": null,
   "id": "d14be73a-be49-40cf-8e55-f3bde496f35d",
   "metadata": {},
   "outputs": [],
   "source": []
  }
 ],
 "metadata": {
  "kernelspec": {
   "display_name": "Python [conda env:base] *",
   "language": "python",
   "name": "conda-base-py"
  },
  "language_info": {
   "codemirror_mode": {
    "name": "ipython",
    "version": 3
   },
   "file_extension": ".py",
   "mimetype": "text/x-python",
   "name": "python",
   "nbconvert_exporter": "python",
   "pygments_lexer": "ipython3",
   "version": "3.12.7"
  }
 },
 "nbformat": 4,
 "nbformat_minor": 5
}
